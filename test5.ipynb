{
 "cells": [
  {
   "cell_type": "code",
   "execution_count": 2,
   "metadata": {},
   "outputs": [],
   "source": [
    "import os\n",
    "from typing import TypedDict, List, Optional, Annotated\n",
    "from langgraph.graph import StateGraph, END\n",
    "from langchain_community.document_loaders import Docx2txtLoader\n",
    "from dotenv import load_dotenv\n",
    "import docx2txt  # Fallback processor\n"
   ]
  },
  {
   "cell_type": "code",
   "execution_count": 3,
   "metadata": {},
   "outputs": [
    {
     "data": {
      "text/plain": [
       "True"
      ]
     },
     "execution_count": 3,
     "metadata": {},
     "output_type": "execute_result"
    }
   ],
   "source": [
    "# Load environment variables (for LLM API keys)\n",
    "load_dotenv()"
   ]
  },
  {
   "cell_type": "code",
   "execution_count": 4,
   "metadata": {},
   "outputs": [],
   "source": [
    "# Define State\n",
    "class AgentState(TypedDict):\n",
    "    conversation_history: Annotated[List[dict], lambda a, b: a + b]\n",
    "    test_report_text: Optional[str]\n",
    "    task_progress: Annotated[dict, lambda a, b: {**a, **b}]\n",
    "    current_questions: Annotated[List[str], lambda a, b: a + b]\n",
    "\n",
    "# Initialize state\n",
    "initial_state = AgentState({\n",
    "    \"conversation_history\": [],\n",
    "    \"test_report_text\": None,\n",
    "    \"task_progress\": {},\n",
    "    \"current_questions\": []\n",
    "})"
   ]
  },
  {
   "cell_type": "code",
   "execution_count": 5,
   "metadata": {},
   "outputs": [],
   "source": [
    "# Define Nodes\n",
    "def collect_symptoms(state: AgentState):\n",
    "    \"\"\"Collect patient symptoms through conversation\"\"\"\n",
    "    from langchain_core.prompts import ChatPromptTemplate\n",
    "    from langchain_openai import ChatOpenAI\n",
    "    \n",
    "    # Initialize LLM\n",
    "    llm = ChatOpenAI(model=\"gpt-4o-mini\")\n",
    "    \n",
    "    # Generate next question\n",
    "    if not state[\"current_questions\"]:\n",
    "        prompt = ChatPromptTemplate.from_template(\n",
    "            \"Start a conversation to collect patient symptoms. Ask one clear question.\"\n",
    "        )\n",
    "        question = llm.invoke(prompt.format()).content\n",
    "    else:\n",
    "        question = state[\"current_questions\"].pop(0)\n",
    "    \n",
    "    # Simulate user input\n",
    "    print(f\"[Assistant] {question}\")\n",
    "    user_input = input(\"[Patient] \")\n",
    "    \n",
    "    return {\n",
    "        \"conversation_history\": [\n",
    "            {\"role\": \"assistant\", \"content\": question},\n",
    "            {\"role\": \"user\", \"content\": user_input}\n",
    "        ],\n",
    "        \"current_questions\": []\n",
    "    }\n"
   ]
  },
  {
   "cell_type": "code",
   "execution_count": 6,
   "metadata": {},
   "outputs": [],
   "source": [
    "def process_report(state: AgentState):\n",
    "    \"\"\"Process uploaded DOCX report\"\"\"\n",
    "    try:\n",
    "        # Use LangChain's DOCX loader\n",
    "        loader = Docx2txtLoader(\"temp_report.docx\")\n",
    "        docs = loader.load()\n",
    "        report_text = \"\\n\".join([doc.page_content for doc in docs])\n",
    "    except Exception as e:\n",
    "        # Fallback processing\n",
    "        report_text = docx2txt.process(\"temp_report.docx\")\n",
    "    \n",
    "    return {\"test_report_text\": report_text}\n"
   ]
  },
  {
   "cell_type": "code",
   "execution_count": 8,
   "metadata": {},
   "outputs": [],
   "source": [
    "def generate_confirmation_questions(state: AgentState):\n",
    "    \"\"\"Generate questions to confirm test report findings\"\"\"\n",
    "    from langchain_core.prompts import ChatPromptTemplate\n",
    "    from langchain_openai import ChatOpenAI\n",
    "    \n",
    "    llm = ChatOpenAI(model=\"gpt-4o-mini\")\n",
    "    prompt = ChatPromptTemplate.from_template(\"\"\"\n",
    "    Generate 3 questions to confirm consistency between these symptoms:\n",
    "    {symptoms}\n",
    "    \n",
    "    And this test report:\n",
    "    {report}\n",
    "    \n",
    "    Return questions as bullet points.\n",
    "    \"\"\")\n",
    "    \n",
    "    chain = prompt | llm\n",
    "    questions = chain.invoke({\n",
    "        \"symptoms\": state[\"conversation_history\"],\n",
    "        \"report\": state[\"test_report_text\"]\n",
    "    }).content\n",
    "    \n",
    "    return {\"current_questions\": [q.strip() for q in questions.split(\"\\n\") if q.strip()]}\n"
   ]
  },
  {
   "cell_type": "code",
   "execution_count": 9,
   "metadata": {},
   "outputs": [],
   "source": [
    "def answer_report_queries(state: AgentState):\n",
    "    \"\"\"Answer patient questions about their report\"\"\"\n",
    "    from langchain_core.prompts import ChatPromptTemplate\n",
    "    from langchain_openai import ChatOpenAI\n",
    "    \n",
    "    print(\"Ask about your test report (type 'done' to finish):\")\n",
    "    while True:\n",
    "        user_input = input(\"[Patient Question] \")\n",
    "        if user_input.lower() == 'done':\n",
    "            break\n",
    "            \n",
    "        llm = ChatOpenAI(model=\"gpt-4o-mini\")\n",
    "        prompt = ChatPromptTemplate.from_template(\"\"\"\n",
    "        Answer this question about the test report:\n",
    "        Question: {question}\n",
    "        \n",
    "        Report Content:\n",
    "        {report}\n",
    "        \n",
    "        Keep answers professional but patient-friendly.\n",
    "        \"\"\")\n",
    "        \n",
    "        chain = prompt | llm\n",
    "        answer = chain.invoke({\n",
    "            \"question\": user_input,\n",
    "            \"report\": state[\"test_report_text\"]\n",
    "        }).content\n",
    "        \n",
    "        print(f\"[Assistant] {answer}\")\n",
    "        \n",
    "    return {\"conversation_history\": []}"
   ]
  },
  {
   "cell_type": "code",
   "execution_count": 10,
   "metadata": {},
   "outputs": [],
   "source": [
    "def generate_summary(state: AgentState):\n",
    "    \"\"\"Generate final summary for doctor\"\"\"\n",
    "    from langchain_core.prompts import ChatPromptTemplate\n",
    "    from langchain_openai import ChatOpenAI\n",
    "    \n",
    "    llm = ChatOpenAI(model=\"gpt-4\")\n",
    "    prompt = ChatPromptTemplate.from_template(\"\"\"\n",
    "    Create a medical summary for a doctor containing:\n",
    "    1. Patient symptoms\n",
    "    2. Test report highlights\n",
    "    3. Key conversation points\n",
    "    4. Recommended next steps\n",
    "    \n",
    "    Conversation History:\n",
    "    {history}\n",
    "    \n",
    "    Test Report:\n",
    "    {report}\n",
    "    \"\"\")\n",
    "    \n",
    "    chain = prompt | llm\n",
    "    summary = chain.invoke({\n",
    "        \"history\": state[\"conversation_history\"],\n",
    "        \"report\": state[\"test_report_text\"]\n",
    "    }).content\n",
    "    \n",
    "    print(f\"\\n[Doctor Summary]\\n{summary}\")\n",
    "    return {\"task_progress\": {\"summary_generated\": True}}"
   ]
  },
  {
   "cell_type": "code",
   "execution_count": 11,
   "metadata": {},
   "outputs": [],
   "source": [
    "# Create workflow\n",
    "workflow = StateGraph(AgentState)\n",
    "\n",
    "# Add nodes\n",
    "workflow.add_node(\"collect_symptoms\", collect_symptoms)\n",
    "workflow.add_node(\"process_report\", process_report)\n",
    "workflow.add_node(\"generate_confirmation\", generate_confirmation_questions)\n",
    "workflow.add_node(\"answer_questions\", answer_report_queries)\n",
    "workflow.add_node(\"generate_summary\", generate_summary)\n",
    "\n",
    "# Set up edges\n",
    "workflow.set_entry_point(\"collect_symptoms\")\n",
    "\n",
    "workflow.add_edge(\"collect_symptoms\", \"process_report\")\n",
    "workflow.add_conditional_edges(\n",
    "    \"process_report\",\n",
    "    lambda state: \"generate_confirmation\" if state[\"test_report_text\"] else \"collect_symptoms\",\n",
    "    {\n",
    "        \"generate_confirmation\": \"generate_confirmation\",\n",
    "        \"collect_symptoms\": \"collect_symptoms\"\n",
    "    }\n",
    ")\n",
    "workflow.add_edge(\"generate_confirmation\", \"answer_questions\")\n",
    "workflow.add_edge(\"answer_questions\", \"generate_summary\")\n",
    "workflow.add_edge(\"generate_summary\", END)\n",
    "\n",
    "# Compile the workflow\n",
    "app = workflow.compile()"
   ]
  },
  {
   "cell_type": "code",
   "execution_count": 12,
   "metadata": {},
   "outputs": [
    {
     "data": {
      "image/png": "[encoded data removed]",
      "text/plain": [
       "<IPython.core.display.Image object>"
      ]
     },
     "metadata": {},
     "output_type": "display_data"
    }
   ],
   "source": [
    "from IPython.display import Image, display\n",
    "\n",
    "try:\n",
    "    display(Image(app.get_graph().draw_mermaid_png()))\n",
    "except Exception as e:\n",
    "    # This requires some extra dependencies and is optional\n",
    "    print(e)"
   ]
  },
  {
   "cell_type": "code",
   "execution_count": null,
   "metadata": {},
   "outputs": [
    {
     "name": "stdout",
     "output_type": "stream",
     "text": [
      "[Assistant] Sure! To begin, can you tell me what symptoms you're currently experiencing?\n",
      "Ask about your test report (type 'done' to finish):\n",
      "[Assistant] Based on the test report provided, here are some insights:\n",
      "\n",
      "- **Blood Pressure**: Your blood pressure reading of 120/80 mm Hg is considered within the normal range, indicating good cardiovascular health.\n",
      "\n",
      "- **Cholesterol**: Your cholesterol level is recorded at 200 mg/dL. While this reading is the threshold for borderline high cholesterol, it’s advisable to monitor your cholesterol levels regularly and discuss with your healthcare provider any necessary lifestyle changes or further testing.\n",
      "\n",
      "- **Elevated White Blood Cell Count**: The elevated white blood cell count may indicate an underlying condition, such as an infection or inflammation. It would be beneficial to follow up with your physician to understand the implications and necessary next steps.\n",
      "\n",
      "Overall, it’s important to keep a close dialogue with your healthcare provider about these results to ensure that your health remains on track. If you have further questions or concerns, don't hesitate to reach out for more guidance!\n",
      "[Assistant] Your cholesterol level is 200 mg/dL. This level is considered borderline high, so it may be a good idea to discuss it further with your healthcare provider to understand any necessary lifestyle changes or treatments. If you have any other questions or concerns, feel free to ask!\n",
      "[Assistant] You're welcome! If you have any further questions or need clarification regarding the test report or any specific results, please feel free to ask. I'm here to help!\n"
     ]
    }
   ],
   "source": [
    "# Run the system\n",
    "def run_system():\n",
    "    # Simulate document upload\n",
    "    if os.path.exists(\"temp_report.docx\"):\n",
    "        os.remove(\"temp_report.docx\")\n",
    "        \n",
    "    # For demo purposes, create a sample DOCX file\n",
    "    from docx import Document\n",
    "    doc = Document()\n",
    "    doc.add_paragraph(\"Patient Test Report\\n\\nBlood Pressure: 120/80\\nCholesterol: 200 mg/dL\\nNotes: Elevated white blood cell count\")\n",
    "    doc.save(\"temp_report.docx\")\n",
    "    \n",
    "    # Initialize and run\n",
    "    response = app.invoke(initial_state)\n",
    "    return response\n",
    "\n",
    "if __name__ == \"__main__\":\n",
    "    run_system()"
   ]
  }
 ],
 "metadata": {
  "kernelspec": {
   "display_name": ".venv",
   "language": "python",
   "name": "python3"
  },
  "language_info": {
   "codemirror_mode": {
    "name": "ipython",
    "version": 3
   },
   "file_extension": ".py",
   "mimetype": "text/x-python",
   "name": "python",
   "nbconvert_exporter": "python",
   "pygments_lexer": "ipython3",
   "version": "3.12.8"
  }
 },
 "nbformat": 4,
 "nbformat_minor": 2
}
