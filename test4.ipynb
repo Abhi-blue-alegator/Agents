{
 "cells": [
  {
   "cell_type": "code",
   "execution_count": null,
   "metadata": {},
   "outputs": [],
   "source": [
    "pip install docx2txt python-docx"
   ]
  },
  {
   "cell_type": "code",
   "execution_count": 22,
   "metadata": {},
   "outputs": [],
   "source": [
    "from dotenv import load_dotenv\n",
    "import os"
   ]
  },
  {
   "cell_type": "code",
   "execution_count": 23,
   "metadata": {},
   "outputs": [],
   "source": [
    "\n",
    "# Load environment variables\n",
    "load_dotenv()\n",
    "api_key = os.getenv(\"OPENAI_API_KEY\")\n",
    "os.environ[\"OPENAI_API_KEY\"] = api_key"
   ]
  },
  {
   "cell_type": "code",
   "execution_count": 24,
   "metadata": {},
   "outputs": [],
   "source": [
    "from typing import TypedDict, Optional, Literal, List, Dict\n",
    "from langchain_community.document_loaders import Docx2txtLoader\n",
    "from langchain_core.prompts import ChatPromptTemplate\n",
    "from langgraph.graph import StateGraph, END\n",
    "from langchain_openai import ChatOpenAI\n",
    "import re\n"
   ]
  },
  {
   "cell_type": "code",
   "execution_count": 25,
   "metadata": {},
   "outputs": [],
   "source": [
    "llm = ChatOpenAI(temperature=0.3, model=\"gpt-4o-mini\")\n"
   ]
  },
  {
   "cell_type": "code",
   "execution_count": 26,
   "metadata": {},
   "outputs": [],
   "source": [
    "# ==================\n",
    "# 1. State Definition\n",
    "# ==================\n",
    "class MedicalState(TypedDict):\n",
    "    messages: List[Dict[str, str]]\n",
    "    phase: Literal[\n",
    "        \"symptom_interview\", \n",
    "        \"report_processing\",\n",
    "        \"verification\",\n",
    "        \"completed\"\n",
    "    ]\n",
    "    symptoms_summary: Optional[str]\n",
    "    report_text: Optional[str]\n",
    "    verification_questions: List[str]\n",
    "    verification_answers: Dict[int, str]\n"
   ]
  },
  {
   "cell_type": "code",
   "execution_count": 27,
   "metadata": {},
   "outputs": [],
   "source": [
    "def symptom_interview(state: MedicalState):\n",
    "    if state[\"phase\"] != \"symptom_interview\":\n",
    "        return state\n",
    "    \n",
    "    last_message = state[\"messages\"][-1][\"content\"]\n",
    "    \n",
    "    prompt = ChatPromptTemplate.from_messages([\n",
    "        (\"system\", \"\"\"Ask ONE medical question at a time. End with 'SUMMARY:...'\"\"\"),\n",
    "        (\"human\", last_message)\n",
    "    ])\n",
    "    \n",
    "    response = prompt | llm\n",
    "    ai_message = response.invoke({}).content\n",
    "    \n",
    "    # Handle summary extraction safely\n",
    "    if \"SUMMARY:\" in ai_message:\n",
    "        match = re.search(r\"SUMMARY:\\s*(.*?)(?=\\n\\n|\\Z)\", ai_message, re.DOTALL)\n",
    "        if match:\n",
    "            state[\"symptoms_summary\"] = match.group(1).strip()\n",
    "            state[\"phase\"] = \"report_processing\"\n",
    "        else:\n",
    "            # If SUMMARY exists but format is wrong, ask again\n",
    "            ai_message = \"Please provide a valid summary using 'SUMMARY:' format\"\n",
    "            state[\"messages\"].append({\"role\": \"assistant\", \"content\": ai_message})\n",
    "    else:\n",
    "        state[\"messages\"].append({\"role\": \"assistant\", \"content\": ai_message})\n",
    "    \n",
    "    return state"
   ]
  },
  {
   "cell_type": "code",
   "execution_count": 39,
   "metadata": {},
   "outputs": [],
   "source": [
    "def process_report(state: MedicalState):\n",
    "    if state[\"phase\"] != \"report_processing\":\n",
    "        return state\n",
    "    \n",
    "    if not state.get(\"report_text\"):\n",
    "        loader = Docx2txtLoader(\"report.docx\")  # Use actual path\n",
    "        docs = loader.load()\n",
    "        state[\"report_text\"] = \"\\n\".join([d.page_content for d in docs])\n",
    "    \n",
    "    prompt = ChatPromptTemplate.from_template(\"\"\"\n",
    "    Analyze this medical report:\n",
    "    {report}\n",
    "    \n",
    "    Generate 3 verification questions numbered 1-3:\n",
    "    1. ...\n",
    "    2. ...\n",
    "    3. ...\n",
    "    \"\"\")\n",
    "    \n",
    "    response = prompt | llm\n",
    "    questions = response.invoke({\"report\": state[\"report_text\"]}).content\n",
    "    state[\"verification_questions\"] = [\n",
    "        q.split(\" \", 1)[1].strip()\n",
    "        for q in questions.split(\"\\n\") \n",
    "        if q.strip().startswith(tuple(str(i) for i in range(1,4)))\n",
    "    ][:3]\n",
    "    \n",
    "    state[\"phase\"] = \"verification\"\n",
    "    state[\"messages\"].append({\n",
    "        \"role\": \"assistant\", \n",
    "        \"content\": \"Please answer these verification questions:\\n\" + \"\\n\".join(state[\"verification_questions\"])\n",
    "    })\n",
    "    \n",
    "    return state"
   ]
  },
  {
   "cell_type": "code",
   "execution_count": 40,
   "metadata": {},
   "outputs": [],
   "source": [
    "def handle_verification(state: MedicalState):\n",
    "    if state[\"phase\"] != \"verification\":\n",
    "        return state\n",
    "    \n",
    "    last_message = state[\"messages\"][-1][\"content\"]\n",
    "    current_q_index = len(state[\"verification_answers\"])\n",
    "    \n",
    "    if current_q_index < len(state[\"verification_questions\"]):\n",
    "        state[\"verification_answers\"][current_q_index] = last_message\n",
    "        next_q = state[\"verification_questions\"][current_q_index]\n",
    "        state[\"messages\"].append({\n",
    "            \"role\": \"assistant\",\n",
    "            \"content\": f\"Question {current_q_index+1}: {next_q}\"\n",
    "        })\n",
    "    \n",
    "    if len(state[\"verification_answers\"]) >= len(state[\"verification_questions\"]):\n",
    "        state[\"phase\"] = \"completed\"\n",
    "    \n",
    "    return state\n"
   ]
  },
  {
   "cell_type": "code",
   "execution_count": null,
   "metadata": {},
   "outputs": [],
   "source": [
    "# ==================\n",
    "# 3. Simplified Workflow\n",
    "# ==================\n",
    "workflow = StateGraph(MedicalState)\n",
    "\n",
    "workflow.add_node(\"symptoms\", symptom_interview)\n",
    "workflow.add_node(\"report\", process_report)\n",
    "workflow.add_node(\"verify\", handle_verification)\n",
    "workflow.add_node(\"end\", lambda state: state)\n",
    "\n",
    "workflow.set_entry_point(\"symptoms\")\n",
    "\n",
    "workflow.add_conditional_edges(\n",
    "    \"symptoms\",\n",
    "    lambda s: \"report\" if s.get(\"symptoms_summary\") else \"symptoms\",\n",
    "    {\"symptoms\": \"symptoms\", \"report\": \"report\"}\n",
    ")\n",
    "\n",
    "workflow.add_conditional_edges(\n",
    "    \"verify\",\n",
    "    lambda s: \"end\" if len(s.get(\"verification_answers\", {})) >=3 else \"verify\",\n",
    "    {\"verify\": \"verify\", \"end\": \"end\"}\n",
    ")\n",
    "\n",
    "workflow.add_edge(\"report\", \"verify\")\n",
    "workflow.add_edge(\"end\", END)\n",
    "\n"
   ]
  },
  {
   "cell_type": "code",
   "execution_count": null,
   "metadata": {},
   "outputs": [],
   "source": [
    "from IPython.display import Image, display\n",
    "\n",
    "try:\n",
    "    display(Image(agent.get_graph().draw_mermaid_png()))\n",
    "except Exception as e:\n",
    "    # This requires some extra dependencies and is optional\n",
    "    print(e)"
   ]
  },
  {
   "cell_type": "code",
   "execution_count": null,
   "metadata": {},
   "outputs": [],
   "source": [
    "# ==================\n",
    "# 4. Interactive Execution\n",
    "# ==================\n",
    "def run_medical_interview():\n",
    "    agent = workflow.compile()\n",
    "    \n",
    "    state = {\n",
    "        \"messages\": [{\"role\": \"user\", \"content\": \"I need medical help\"}],\n",
    "        \"phase\": \"symptom_interview\",\n",
    "        \"symptoms_summary\": None,\n",
    "        \"report_text\": None,\n",
    "        \"verification_questions\": [],\n",
    "        \"verification_answers\": {}\n",
    "    }\n",
    "    \n",
    "    while True:\n",
    "        # Execute one graph step\n",
    "        result = agent.invoke(state)\n",
    "        state = result\n",
    "        \n",
    "        # Get last assistant message\n",
    "        last_ai = next(m for m in reversed(state[\"messages\"]) if m[\"role\"] == \"assistant\")\n",
    "        print(f\"AI: {last_ai['content']}\")\n",
    "        \n",
    "        # Check exit condition\n",
    "        if state[\"phase\"] == \"completed\":\n",
    "            print(\"\\nGenerating final report...\")\n",
    "            break\n",
    "            \n",
    "        # Get user input\n",
    "        user_input = input(\"Patient: \")\n",
    "        state[\"messages\"].append({\"role\": \"user\", \"content\": user_input})\n",
    "\n",
    "if __name__ == \"__main__\":\n",
    "    run_medical_interview()\n"
   ]
  },
  {
   "cell_type": "code",
   "execution_count": null,
   "metadata": {},
   "outputs": [],
   "source": []
  }
 ],
 "metadata": {
  "kernelspec": {
   "display_name": ".venv",
   "language": "python",
   "name": "python3"
  },
  "language_info": {
   "codemirror_mode": {
    "name": "ipython",
    "version": 3
   },
   "file_extension": ".py",
   "mimetype": "text/x-python",
   "name": "python",
   "nbconvert_exporter": "python",
   "pygments_lexer": "ipython3",
   "version": "3.12.8"
  }
 },
 "nbformat": 4,
 "nbformat_minor": 2
}
